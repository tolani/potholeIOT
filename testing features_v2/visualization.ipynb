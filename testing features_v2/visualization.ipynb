{
 "cells": [
  {
   "cell_type": "code",
   "execution_count": 72,
   "metadata": {
    "collapsed": true
   },
   "outputs": [],
   "source": [
    "import pandas as pd\n",
    "import numpy as np\n",
    "import matplotlib.pyplot as plt\n",
    "import scipy.fftpack\n",
    "from sklearn import preprocessing\n",
    "from sklearn.metrics import confusion_matrix, f1_score\n",
    "from sklearn.model_selection import train_test_split\n",
    "from sklearn.linear_model import LogisticRegression\n",
    "from sklearn.metrics import accuracy_score\n",
    "from sklearn.svm import SVC\n",
    "from sklearn.decomposition import PCA\n",
    "from sklearn.preprocessing import StandardScaler\n",
    "import keras\n",
    "from keras.models import Sequential\n",
    "from keras.layers import Dense, Dropout\n",
    "import itertools"
   ]
  },
  {
   "cell_type": "code",
   "execution_count": 73,
   "metadata": {},
   "outputs": [
    {
     "data": {
      "text/html": [
       "<div>\n",
       "<style>\n",
       "    .dataframe thead tr:only-child th {\n",
       "        text-align: right;\n",
       "    }\n",
       "\n",
       "    .dataframe thead th {\n",
       "        text-align: left;\n",
       "    }\n",
       "\n",
       "    .dataframe tbody tr th {\n",
       "        vertical-align: top;\n",
       "    }\n",
       "</style>\n",
       "<table border=\"1\" class=\"dataframe\">\n",
       "  <thead>\n",
       "    <tr style=\"text-align: right;\">\n",
       "      <th></th>\n",
       "      <th>timestamp</th>\n",
       "      <th>accx</th>\n",
       "      <th>accy</th>\n",
       "      <th>accz</th>\n",
       "      <th>gyrx</th>\n",
       "      <th>gyry</th>\n",
       "      <th>gyrz</th>\n",
       "      <th>longitude</th>\n",
       "      <th>latitude</th>\n",
       "      <th>speed</th>\n",
       "    </tr>\n",
       "  </thead>\n",
       "  <tbody>\n",
       "    <tr>\n",
       "      <th>0</th>\n",
       "      <td>152178985702</td>\n",
       "      <td>0.152901</td>\n",
       "      <td>-0.657606</td>\n",
       "      <td>9.569601</td>\n",
       "      <td>-0.002742</td>\n",
       "      <td>0.008070</td>\n",
       "      <td>-0.005377</td>\n",
       "      <td>77.643354</td>\n",
       "      <td>12.87931</td>\n",
       "      <td>0.0</td>\n",
       "    </tr>\n",
       "    <tr>\n",
       "      <th>1</th>\n",
       "      <td>152178985720</td>\n",
       "      <td>-0.444470</td>\n",
       "      <td>-0.501953</td>\n",
       "      <td>9.585513</td>\n",
       "      <td>0.000966</td>\n",
       "      <td>-0.007851</td>\n",
       "      <td>-0.005371</td>\n",
       "      <td>77.643354</td>\n",
       "      <td>12.87931</td>\n",
       "      <td>0.0</td>\n",
       "    </tr>\n",
       "    <tr>\n",
       "      <th>2</th>\n",
       "      <td>152178985742</td>\n",
       "      <td>-0.195615</td>\n",
       "      <td>-0.610109</td>\n",
       "      <td>10.012871</td>\n",
       "      <td>0.000354</td>\n",
       "      <td>-0.009804</td>\n",
       "      <td>-0.004395</td>\n",
       "      <td>77.643354</td>\n",
       "      <td>12.87931</td>\n",
       "      <td>0.0</td>\n",
       "    </tr>\n",
       "    <tr>\n",
       "      <th>3</th>\n",
       "      <td>152178985764</td>\n",
       "      <td>-0.310112</td>\n",
       "      <td>-0.708696</td>\n",
       "      <td>9.713529</td>\n",
       "      <td>0.000969</td>\n",
       "      <td>-0.009312</td>\n",
       "      <td>-0.004761</td>\n",
       "      <td>77.643354</td>\n",
       "      <td>12.87931</td>\n",
       "      <td>0.0</td>\n",
       "    </tr>\n",
       "    <tr>\n",
       "      <th>4</th>\n",
       "      <td>152178985784</td>\n",
       "      <td>-0.400679</td>\n",
       "      <td>-0.345822</td>\n",
       "      <td>10.250119</td>\n",
       "      <td>-0.000861</td>\n",
       "      <td>-0.003700</td>\n",
       "      <td>-0.004639</td>\n",
       "      <td>77.643354</td>\n",
       "      <td>12.87931</td>\n",
       "      <td>0.0</td>\n",
       "    </tr>\n",
       "  </tbody>\n",
       "</table>\n",
       "</div>"
      ],
      "text/plain": [
       "      timestamp      accx      accy       accz      gyrx      gyry      gyrz  \\\n",
       "0  152178985702  0.152901 -0.657606   9.569601 -0.002742  0.008070 -0.005377   \n",
       "1  152178985720 -0.444470 -0.501953   9.585513  0.000966 -0.007851 -0.005371   \n",
       "2  152178985742 -0.195615 -0.610109  10.012871  0.000354 -0.009804 -0.004395   \n",
       "3  152178985764 -0.310112 -0.708696   9.713529  0.000969 -0.009312 -0.004761   \n",
       "4  152178985784 -0.400679 -0.345822  10.250119 -0.000861 -0.003700 -0.004639   \n",
       "\n",
       "   longitude  latitude  speed  \n",
       "0  77.643354  12.87931    0.0  \n",
       "1  77.643354  12.87931    0.0  \n",
       "2  77.643354  12.87931    0.0  \n",
       "3  77.643354  12.87931    0.0  \n",
       "4  77.643354  12.87931    0.0  "
      ]
     },
     "execution_count": 73,
     "metadata": {},
     "output_type": "execute_result"
    }
   ],
   "source": [
    "df1 = pd.read_csv('./sensor_data/sensorData_23-03-2018_15217898569-12_55.txt')\n",
    "df2 = pd.read_csv('./sensor_data/sensorData_23-03-2018_15217899985-1_02.txt')\n",
    "df3 = pd.read_csv('./sensor_data/sensorData_23-03-2018_15217903881-1_06.txt')\n",
    "df4 = pd.read_csv('./sensor_data/sensorData_23-03-2018_15217906095-1_09.txt')\n",
    "df5 = pd.read_csv('./sensor_data/sensorData_23-03-2018_15217913809-1_24.txt')\n",
    "df6 = pd.read_csv('./sensor_data/sensorData_23-03-2018_15217883948-12_31.txt')\n",
    "df7 = pd.read_csv('./sensor_data/sensorData_23-03-2018_15217908058-1_13.txt')\n",
    "df8 = pd.read_csv('./sensor_data_old/sensorData_19-03-2018_15214527501_15-18.txt')\n",
    "df9 = pd.read_csv('./sensor_data_old/sensorData_19-03-2018_15214537070_15-34.txt')\n",
    "df10 = pd.read_csv('./sensor_data_old/sensorData_19-03-2018_15214540891_15-41.txt')\n",
    "df11 = pd.read_csv('./sensor_data_old/sensorData_19-03-2018_15214551353_15-58.txt')\n",
    "df12 = pd.read_csv('./sensor_data_old/sensorData_19-03-2018_15214560034_16-13.txt')\n",
    "df13 = pd.read_csv('./sensor_data_new/sensorData_04-04-2018_15228184860-10_53.txt')\n",
    "df14 = pd.read_csv('./sensor_data_new/sensorData_04-04-2018_15228194973-10_58.txt')\n",
    "df15 = pd.read_csv('./sensor_data_new/sensorData_04-04-2018_15228197814-11_02.txt')\n",
    "df16 = pd.read_csv('./sensor_data_new/sensorData_04-04-2018_15228200158-11_06.txt')\n",
    "df17 = pd.read_csv('./sensor_data_new/sensorData_04-04-2018_15228202727-11_14.txt')\n",
    "df18 = pd.read_csv('./sensor_data_new/sensorData_04-04-2018_15228207467-11_36.txt')\n",
    "df19 = pd.read_csv('./sensor_data_new/sensorData_04-04-2018_15228271593-1_24.txt')\n",
    "df20 = pd.read_csv('./sensor_data_new/sensorData_04-04-2018_15228285553-1_47.txt')\n",
    "\n",
    "\n",
    "# dataframes for pothole annotated files\n",
    "\n",
    "pdf1 = pd.read_csv('./potholes/sensorData_23-03-2018_15217898607-12_55.txt')\n",
    "pdf2 = pd.read_csv('./potholes/sensorData_23-03-2018_15217899997-1_02.txt')\n",
    "pdf3 = pd.read_csv('./potholes/sensorData_23-03-2018_15217903905-1_06.txt')\n",
    "pdf4 = pd.read_csv('./potholes/sensorData_23-03-2018_15217906130-1_09.txt')\n",
    "pdf5 = pd.read_csv('./potholes/sensorData_23-03-2018_15217914003-1_24.txt')\n",
    "pdf6 = pd.read_csv('./potholes/sensorData_23-03-2018_15217883957-12_31.txt')\n",
    "pdf7 = pd.read_csv('./potholes/sensorData_23-03-2018_15217908081-1_13.txt')\n",
    "pdf8 = pd.read_csv('./potholes_old/sensorData_19-03-2018_15214527532_15-18.txt')\n",
    "pdf9 = pd.read_csv('./potholes_old/sensorData_19-03-2018_15214537329_15-34.txt')\n",
    "pdf10 = pd.read_csv('./potholes_old/sensorData_19-03-2018_15214540946_15-41.txt')\n",
    "pdf11 = pd.read_csv('./potholes_old/sensorData_19-03-2018_15214551395_15-58.txt')\n",
    "pdf12 = pd.read_csv('./potholes_old/sensorData_19-03-2018_15214560096_16-13.txt')\n",
    "pdf13 = pd.read_csv('./potholes_new/sensorData_04-04-2018_15228184880-10_53.txt')\n",
    "pdf14 = pd.read_csv('./potholes_new/sensorData_04-04-2018_15228194989-10_58.txt')\n",
    "pdf15 = pd.read_csv('./potholes_new/sensorData_04-04-2018_15228197815-11_02.txt')\n",
    "pdf16 = pd.read_csv('./potholes_new/sensorData_04-04-2018_15228200151-11_06.txt')\n",
    "pdf17 = pd.read_csv('./potholes_new/sensorData_04-04-2018_15228202691-11_14.txt')\n",
    "pdf18 = pd.read_csv('./potholes_new/sensorData_04-04-2018_15228207479-11_36.txt')\n",
    "pdf19 = pd.read_csv('./potholes_new/sensorData_04-04-2018_15228271641-1_24.txt')\n",
    "pdf20 = pd.read_csv('./potholes_new/sensorData_04-04-2018_15228285574-1_47.txt')\n",
    "\n",
    "df1.head()"
   ]
  },
  {
   "cell_type": "code",
   "execution_count": 74,
   "metadata": {},
   "outputs": [
    {
     "data": {
      "text/html": [
       "<div>\n",
       "<style>\n",
       "    .dataframe thead tr:only-child th {\n",
       "        text-align: right;\n",
       "    }\n",
       "\n",
       "    .dataframe thead th {\n",
       "        text-align: left;\n",
       "    }\n",
       "\n",
       "    .dataframe tbody tr th {\n",
       "        vertical-align: top;\n",
       "    }\n",
       "</style>\n",
       "<table border=\"1\" class=\"dataframe\">\n",
       "  <thead>\n",
       "    <tr style=\"text-align: right;\">\n",
       "      <th></th>\n",
       "      <th>ts_start</th>\n",
       "      <th>ts_end</th>\n",
       "      <th>mean_ax</th>\n",
       "      <th>mean_ay</th>\n",
       "      <th>mean_az</th>\n",
       "      <th>mean_gx</th>\n",
       "      <th>mean_gy</th>\n",
       "      <th>mean_gz</th>\n",
       "      <th>sd_ax</th>\n",
       "      <th>sd_ay</th>\n",
       "      <th>...</th>\n",
       "      <th>min_gx</th>\n",
       "      <th>min_gy</th>\n",
       "      <th>min_gz</th>\n",
       "      <th>max_ax</th>\n",
       "      <th>max_ay</th>\n",
       "      <th>max_az</th>\n",
       "      <th>max_gx</th>\n",
       "      <th>max_gy</th>\n",
       "      <th>max_gz</th>\n",
       "      <th>label</th>\n",
       "    </tr>\n",
       "  </thead>\n",
       "  <tbody>\n",
       "  </tbody>\n",
       "</table>\n",
       "<p>0 rows × 27 columns</p>\n",
       "</div>"
      ],
      "text/plain": [
       "Empty DataFrame\n",
       "Columns: [ts_start, ts_end, mean_ax, mean_ay, mean_az, mean_gx, mean_gy, mean_gz, sd_ax, sd_ay, sd_az, sd_gx, sd_gy, sd_gz, min_ax, min_ay, min_az, min_gx, min_gy, min_gz, max_ax, max_ay, max_az, max_gx, max_gy, max_gz, label]\n",
       "Index: []\n",
       "\n",
       "[0 rows x 27 columns]"
      ]
     },
     "execution_count": 74,
     "metadata": {},
     "output_type": "execute_result"
    }
   ],
   "source": [
    "df_main = pd.read_csv('./features.txt')\n",
    "df_main"
   ]
  },
  {
   "cell_type": "code",
   "execution_count": 75,
   "metadata": {},
   "outputs": [],
   "source": [
    "def plot_confusion_matrix(cm,\n",
    "                          target_names,\n",
    "                          title='Confusion matrix',\n",
    "                          cmap=None,\n",
    "                          normalize=True):\n",
    "    \"\"\"\n",
    "    given a sklearn confusion matrix (cm), make a nice plot\n",
    "\n",
    "    Arguments\n",
    "    ---------\n",
    "    cm:           confusion matrix from sklearn.metrics.confusion_matrix\n",
    "\n",
    "    target_names: given classification classes such as [0, 1, 2]\n",
    "                  the class names, for example: ['high', 'medium', 'low']\n",
    "\n",
    "    title:        the text to display at the top of the matrix\n",
    "\n",
    "    cmap:         the gradient of the values displayed from matplotlib.pyplot.cm\n",
    "                  see http://matplotlib.org/examples/color/colormaps_reference.html\n",
    "                  plt.get_cmap('jet') or plt.cm.Blues\n",
    "\n",
    "    normalize:    If False, plot the raw numbers\n",
    "                  If True, plot the proportions\n",
    "\n",
    "    Usage\n",
    "    -----\n",
    "    plot_confusion_matrix(cm           = cm,                  # confusion matrix created by\n",
    "                                                              # sklearn.metrics.confusion_matrix\n",
    "                          normalize    = True,                # show proportions\n",
    "                          target_names = y_labels_vals,       # list of names of the classes\n",
    "                          title        = best_estimator_name) # title of graph\n",
    "\n",
    "    Citiation\n",
    "    ---------\n",
    "    http://scikit-learn.org/stable/auto_examples/model_selection/plot_confusion_matrix.html\n",
    "\n",
    "    \"\"\"\n",
    "    \n",
    "\n",
    "    accuracy = np.trace(cm) / float(np.sum(cm))\n",
    "    misclass = 1 - accuracy\n",
    "\n",
    "    if cmap is None:\n",
    "        cmap = plt.get_cmap('Blues')\n",
    "\n",
    "    plt.figure(figsize=(8, 6))\n",
    "    plt.imshow(cm, interpolation='nearest', cmap=cmap)\n",
    "    plt.title(title)\n",
    "    plt.colorbar()\n",
    "\n",
    "    if target_names is not None:\n",
    "        tick_marks = np.arange(len(target_names))\n",
    "        plt.xticks(tick_marks, target_names, rotation=45)\n",
    "        plt.yticks(tick_marks, target_names)\n",
    "\n",
    "    if normalize:\n",
    "        cm = cm.astype('float') / cm.sum(axis=1)[:, np.newaxis]\n",
    "\n",
    "\n",
    "    thresh = cm.max() / 1.5 if normalize else cm.max() / 2\n",
    "    for i, j in itertools.product(range(cm.shape[0]), range(cm.shape[1])):\n",
    "        if normalize:\n",
    "            plt.text(j, i, \"{:0.4f}\".format(cm[i, j]),\n",
    "                     horizontalalignment=\"center\",\n",
    "                     color=\"white\" if cm[i, j] > thresh else \"black\")\n",
    "        else:\n",
    "            plt.text(j, i, \"{:,}\".format(cm[i, j]),\n",
    "                     horizontalalignment=\"center\",\n",
    "                     color=\"white\" if cm[i, j] > thresh else \"black\")\n",
    "\n",
    "\n",
    "    plt.tight_layout()\n",
    "    plt.ylabel('True label')\n",
    "    plt.xlabel('Predicted label\\naccuracy={:0.4f}; misclass={:0.4f}'.format(accuracy, misclass))\n",
    "    plt.show()\n"
   ]
  },
  {
   "cell_type": "code",
   "execution_count": 76,
   "metadata": {
    "collapsed": true
   },
   "outputs": [],
   "source": [
    "# this is to calcualte features by aggregating 10 data pts\n",
    "df_index =0\n",
    "\n",
    "for j in range(0,19):\n",
    "    \n",
    "    if(df_index == 0):\n",
    "        df = df1\n",
    "        pdf = pdf1\n",
    "    elif(df_index == 1):\n",
    "        df = df2\n",
    "        pdf = pdf2\n",
    "    elif(df_index == 2):\n",
    "        df = df3\n",
    "        pdf = pdf3\n",
    "    elif(df_index == 3):\n",
    "        df = df4\n",
    "        pdf = pdf4\n",
    "    elif(df_index == 4):\n",
    "        df = df5\n",
    "        pdf = pdf5\n",
    "    elif(df_index == 5):\n",
    "        df = df6\n",
    "        pdf = pdf6\n",
    "    elif(df_index == 6):\n",
    "        df = df7\n",
    "        pdf = pdf7\n",
    "    elif(df_index == 7):\n",
    "        df = df8\n",
    "        pdf = pdf8\n",
    "    elif(df_index == 8):\n",
    "        df = df9\n",
    "        pdf = pdf9\n",
    "    \n",
    "    elif(df_index == 9):\n",
    "        df = df11\n",
    "        pdf = pdf11\n",
    "    elif(df_index == 10):\n",
    "        df = df12\n",
    "        pdf = pdf12\n",
    "    elif(df_index == 11):\n",
    "        df = df13\n",
    "        pdf = pdf13\n",
    "    elif(df_index == 12):\n",
    "        df = df14\n",
    "        pdf = pdf14\n",
    "    elif(df_index == 13):\n",
    "        df = df15\n",
    "        pdf = pdf15\n",
    "    elif(df_index == 14):\n",
    "        df = df16\n",
    "        pdf = pdf16\n",
    "    elif(df_index == 15):\n",
    "        df = df17\n",
    "        pdf = pdf17\n",
    "    elif(df_index == 16):\n",
    "        df = df18\n",
    "        pdf = pdf18\n",
    "    elif(df_index == 17):\n",
    "        df = df19\n",
    "        pdf = pdf19\n",
    "    elif(df_index == 18):\n",
    "        df = df20\n",
    "        pdf = pdf20\n",
    "    else:\n",
    "        df = df10\n",
    "        pdf = pdf10\n",
    "    \n",
    "    df_index += 1\n",
    "    count = 0\n",
    "    k = 0\n",
    "    \n",
    "    for i in range(1,len(df),10):    # step size is 10 means aggregrating 10 data pts means 1 second data\n",
    "        if(i+9 >= len(df)):\n",
    "            break\n",
    "        #print(i)\n",
    "        dt = df[i-1:i+10]      # chunking the given dataframe into smaller dataframe containing 10 pts\n",
    "        start = dt.timestamp[i-1]\n",
    "        end = dt.timestamp[i+9]\n",
    "        a = dt.mean()      # will give an array of mean of columns of dt\n",
    "        mean_ax = a[1]\n",
    "        mean_ay = a[2]\n",
    "        mean_az = a[3]\n",
    "#         mean_gx = a[4]\n",
    "#         mean_gy = a[5]\n",
    "#         mean_gz = a[6]\n",
    "        a = dt.min()\n",
    "        min_ax = a[1]\n",
    "        min_ay = a[2]\n",
    "        min_az = a[3]\n",
    "#         min_gx = a[4]\n",
    "#         min_gy = a[5]\n",
    "#         min_gz = a[6]\n",
    "        a = dt.max()\n",
    "        max_ax = a[1]\n",
    "        max_ay = a[2]\n",
    "        max_az = a[3]\n",
    "#         max_gx = a[4]\n",
    "#         max_gy = a[5]\n",
    "#         max_gz = a[6]\n",
    "        a = dt.std()\n",
    "        sd_ax = a[1]\n",
    "        sd_ay = a[2]\n",
    "        sd_az = a[3]\n",
    "#         sd_gx = a[4]\n",
    "#         sd_gy = a[5]\n",
    "#         sd_gz = a[6]\n",
    "        a = dt.var()\n",
    "        var_ax = a[1]\n",
    "        var_ay = a[2]\n",
    "        var_az = a[3]\n",
    "        \n",
    "        #adding max-min\n",
    "        mm_x = max_ax - min_ax\n",
    "        mm_y = max_ay - min_ay\n",
    "        mm_z = max_az - min_az\n",
    "        \n",
    "\n",
    "        #taking gradients\n",
    "        arx = dt['accx']\n",
    "        ary = dt['accy']\n",
    "        arz = dt['accz']\n",
    "        tm = dt['timestamp']\n",
    "        dx = np.gradient(arx, tm).max()\n",
    "        dy = np.gradient(ary, tm).max()\n",
    "        dz = np.gradient(arz, tm).max()\n",
    "        \n",
    "        #taking fourier transforms\n",
    "        ft = scipy.fftpack.fft(dt)\n",
    "        \n",
    "        fft_ax = ft[1].max().imag\n",
    "        fft_ay = ft[2].max().imag\n",
    "        fft_az = ft[3].max().imag\n",
    "        \n",
    "        #getting spectral energy\n",
    "        sp_ax = np.mean(np.square(ft[1].real) + np.square(ft[1].imag))\n",
    "        sp_ay = np.mean(np.square(ft[2].real) + np.square(ft[2].imag))\n",
    "        sp_az = np.mean(np.square(ft[3].real) + np.square(ft[3].imag))\n",
    "        \n",
    "        # adding label\n",
    "        if(k >= len(pdf)):\n",
    "            break        \n",
    "        \n",
    "        if(pdf['timestamp'][k] > start and pdf['timestamp'][k] <= end ):\n",
    "            label = 1\n",
    "            k = k + 1\n",
    "            #print(\"haha\")\n",
    "            \n",
    "            if(k >= len(pdf)):\n",
    "                break\n",
    "            while(pdf['timestamp'][k] > start and pdf['timestamp'][k] <= end):\n",
    "                k = k + 1\n",
    "                if(k >= len(pdf)):\n",
    "                        break\n",
    "        else:\n",
    "            label = 0\n",
    "        \n",
    "        df_temp = pd.DataFrame([[mean_ax, mean_ay, mean_az, \n",
    "                                 sd_ax, sd_ay, sd_az,min_ax, min_ay,\n",
    "                                 min_az, max_ax, max_ay, max_az, var_ax, \n",
    "                                 var_ay, var_az ,mm_x, mm_y, mm_z, dx, dy, dz,fft_ax,\n",
    "                                 fft_ay, fft_az,sp_ax, sp_ay, sp_az, start, end, label]], \n",
    "\n",
    "                              columns = ('mean_ax','mean_ay','mean_az',\n",
    "                                         'sd_ax','sd_ay','sd_az','min_ax','min_ay',\n",
    "                                         'min_az','max_ax','max_ay','max_az', 'var_ax', 'var_ay',\n",
    "                                         'var_az','mm_x', 'mm_y','mm_z','dx', 'dy','dz','fft_ax',\n",
    "                                         'fft_ay','fft_az','sp_ax', 'sp_ay', 'sp_az',\n",
    "                                         'ts_start','ts_end','label'))\n",
    "        \n",
    "        df_main = df_main.append(df_temp)\n",
    "        #count = count + 1\n",
    "        #i = i+20"
   ]
  },
  {
   "cell_type": "markdown",
   "metadata": {},
   "source": [
    "df_temp = pd.DataFrame([[start, end, mean_ax, mean_ay, mean_az, mean_gx,mean_gy, mean_gz, \n",
    "                               sd_ax, sd_ay, sd_az, sd_gx, sd_gy, sd_gz,min_ax, min_ay,\n",
    "                               min_az, min_gx, min_gy, min_gz, max_ax, max_ay, max_az, max_gx, max_gy, max_gz , label]], \n",
    "\n",
    "                              columns = ('ts_start','ts_end','mean_ax','mean_ay','mean_az','mean_gx','mean_gy',\n",
    "                                         'mean_gz','sd_ax','sd_ay','sd_az','sd_gx','sd_gy','sd_gz','min_ax','min_ay',\n",
    "                                         'min_az','min_gx','min_gy','min_gz','max_ax','max_ay','max_az','max_gx',\n",
    "                                         'max_gy','max_gz', 'label'))"
   ]
  },
  {
   "cell_type": "code",
   "execution_count": 77,
   "metadata": {
    "collapsed": true
   },
   "outputs": [],
   "source": [
    "df_main = df_main.dropna(axis = 1)"
   ]
  },
  {
   "cell_type": "code",
   "execution_count": 78,
   "metadata": {},
   "outputs": [
    {
     "data": {
      "text/html": [
       "<div>\n",
       "<style>\n",
       "    .dataframe thead tr:only-child th {\n",
       "        text-align: right;\n",
       "    }\n",
       "\n",
       "    .dataframe thead th {\n",
       "        text-align: left;\n",
       "    }\n",
       "\n",
       "    .dataframe tbody tr th {\n",
       "        vertical-align: top;\n",
       "    }\n",
       "</style>\n",
       "<table border=\"1\" class=\"dataframe\">\n",
       "  <thead>\n",
       "    <tr style=\"text-align: right;\">\n",
       "      <th></th>\n",
       "      <th>dx</th>\n",
       "      <th>dy</th>\n",
       "      <th>dz</th>\n",
       "      <th>fft_ax</th>\n",
       "      <th>fft_ay</th>\n",
       "      <th>fft_az</th>\n",
       "      <th>label</th>\n",
       "      <th>max_ax</th>\n",
       "      <th>max_ay</th>\n",
       "      <th>max_az</th>\n",
       "      <th>...</th>\n",
       "      <th>sd_ay</th>\n",
       "      <th>sd_az</th>\n",
       "      <th>sp_ax</th>\n",
       "      <th>sp_ay</th>\n",
       "      <th>sp_az</th>\n",
       "      <th>ts_end</th>\n",
       "      <th>ts_start</th>\n",
       "      <th>var_ax</th>\n",
       "      <th>var_ay</th>\n",
       "      <th>var_az</th>\n",
       "    </tr>\n",
       "  </thead>\n",
       "  <tbody>\n",
       "    <tr>\n",
       "      <th>0</th>\n",
       "      <td>0.009452</td>\n",
       "      <td>0.010545</td>\n",
       "      <td>0.018279</td>\n",
       "      <td>0.0</td>\n",
       "      <td>0.0</td>\n",
       "      <td>0.0</td>\n",
       "      <td>0</td>\n",
       "      <td>0.152901</td>\n",
       "      <td>-0.226779</td>\n",
       "      <td>10.250119</td>\n",
       "      <td>...</td>\n",
       "      <td>0.162682</td>\n",
       "      <td>0.286165</td>\n",
       "      <td>2.315844e+22</td>\n",
       "      <td>2.315844e+22</td>\n",
       "      <td>2.315844e+22</td>\n",
       "      <td>152178985912</td>\n",
       "      <td>152178985702</td>\n",
       "      <td>0.058883</td>\n",
       "      <td>0.026466</td>\n",
       "      <td>0.081890</td>\n",
       "    </tr>\n",
       "    <tr>\n",
       "      <th>0</th>\n",
       "      <td>0.023832</td>\n",
       "      <td>0.009768</td>\n",
       "      <td>0.016422</td>\n",
       "      <td>0.0</td>\n",
       "      <td>0.0</td>\n",
       "      <td>0.0</td>\n",
       "      <td>0</td>\n",
       "      <td>-0.041873</td>\n",
       "      <td>-0.205003</td>\n",
       "      <td>10.182401</td>\n",
       "      <td>...</td>\n",
       "      <td>0.158947</td>\n",
       "      <td>0.201366</td>\n",
       "      <td>2.315844e+22</td>\n",
       "      <td>2.315844e+22</td>\n",
       "      <td>2.315844e+22</td>\n",
       "      <td>152178986124</td>\n",
       "      <td>152178985912</td>\n",
       "      <td>0.064644</td>\n",
       "      <td>0.025264</td>\n",
       "      <td>0.040548</td>\n",
       "    </tr>\n",
       "    <tr>\n",
       "      <th>0</th>\n",
       "      <td>0.012127</td>\n",
       "      <td>0.025754</td>\n",
       "      <td>0.014844</td>\n",
       "      <td>0.0</td>\n",
       "      <td>0.0</td>\n",
       "      <td>0.0</td>\n",
       "      <td>0</td>\n",
       "      <td>0.383211</td>\n",
       "      <td>0.875952</td>\n",
       "      <td>10.347148</td>\n",
       "      <td>...</td>\n",
       "      <td>0.514140</td>\n",
       "      <td>0.223400</td>\n",
       "      <td>2.315844e+22</td>\n",
       "      <td>2.315844e+22</td>\n",
       "      <td>2.315844e+22</td>\n",
       "      <td>152178986337</td>\n",
       "      <td>152178986124</td>\n",
       "      <td>0.077985</td>\n",
       "      <td>0.264340</td>\n",
       "      <td>0.049907</td>\n",
       "    </tr>\n",
       "    <tr>\n",
       "      <th>0</th>\n",
       "      <td>0.015739</td>\n",
       "      <td>0.013850</td>\n",
       "      <td>0.008753</td>\n",
       "      <td>0.0</td>\n",
       "      <td>0.0</td>\n",
       "      <td>0.0</td>\n",
       "      <td>0</td>\n",
       "      <td>0.085185</td>\n",
       "      <td>1.039981</td>\n",
       "      <td>10.145551</td>\n",
       "      <td>...</td>\n",
       "      <td>0.213451</td>\n",
       "      <td>0.271166</td>\n",
       "      <td>2.315844e+22</td>\n",
       "      <td>2.315844e+22</td>\n",
       "      <td>2.315844e+22</td>\n",
       "      <td>152178986549</td>\n",
       "      <td>152178986337</td>\n",
       "      <td>0.055386</td>\n",
       "      <td>0.045561</td>\n",
       "      <td>0.073531</td>\n",
       "    </tr>\n",
       "    <tr>\n",
       "      <th>0</th>\n",
       "      <td>0.003754</td>\n",
       "      <td>0.013616</td>\n",
       "      <td>0.036462</td>\n",
       "      <td>0.0</td>\n",
       "      <td>0.0</td>\n",
       "      <td>0.0</td>\n",
       "      <td>0</td>\n",
       "      <td>-0.108875</td>\n",
       "      <td>0.941278</td>\n",
       "      <td>10.244975</td>\n",
       "      <td>...</td>\n",
       "      <td>0.272872</td>\n",
       "      <td>0.344815</td>\n",
       "      <td>2.315844e+22</td>\n",
       "      <td>2.315844e+22</td>\n",
       "      <td>2.315844e+22</td>\n",
       "      <td>152178986762</td>\n",
       "      <td>152178986549</td>\n",
       "      <td>0.023541</td>\n",
       "      <td>0.074459</td>\n",
       "      <td>0.118898</td>\n",
       "    </tr>\n",
       "  </tbody>\n",
       "</table>\n",
       "<p>5 rows × 30 columns</p>\n",
       "</div>"
      ],
      "text/plain": [
       "         dx        dy        dz  fft_ax  fft_ay  fft_az label    max_ax  \\\n",
       "0  0.009452  0.010545  0.018279     0.0     0.0     0.0     0  0.152901   \n",
       "0  0.023832  0.009768  0.016422     0.0     0.0     0.0     0 -0.041873   \n",
       "0  0.012127  0.025754  0.014844     0.0     0.0     0.0     0  0.383211   \n",
       "0  0.015739  0.013850  0.008753     0.0     0.0     0.0     0  0.085185   \n",
       "0  0.003754  0.013616  0.036462     0.0     0.0     0.0     0 -0.108875   \n",
       "\n",
       "     max_ay     max_az    ...        sd_ay     sd_az         sp_ax  \\\n",
       "0 -0.226779  10.250119    ...     0.162682  0.286165  2.315844e+22   \n",
       "0 -0.205003  10.182401    ...     0.158947  0.201366  2.315844e+22   \n",
       "0  0.875952  10.347148    ...     0.514140  0.223400  2.315844e+22   \n",
       "0  1.039981  10.145551    ...     0.213451  0.271166  2.315844e+22   \n",
       "0  0.941278  10.244975    ...     0.272872  0.344815  2.315844e+22   \n",
       "\n",
       "          sp_ay         sp_az        ts_end      ts_start    var_ax    var_ay  \\\n",
       "0  2.315844e+22  2.315844e+22  152178985912  152178985702  0.058883  0.026466   \n",
       "0  2.315844e+22  2.315844e+22  152178986124  152178985912  0.064644  0.025264   \n",
       "0  2.315844e+22  2.315844e+22  152178986337  152178986124  0.077985  0.264340   \n",
       "0  2.315844e+22  2.315844e+22  152178986549  152178986337  0.055386  0.045561   \n",
       "0  2.315844e+22  2.315844e+22  152178986762  152178986549  0.023541  0.074459   \n",
       "\n",
       "     var_az  \n",
       "0  0.081890  \n",
       "0  0.040548  \n",
       "0  0.049907  \n",
       "0  0.073531  \n",
       "0  0.118898  \n",
       "\n",
       "[5 rows x 30 columns]"
      ]
     },
     "execution_count": 78,
     "metadata": {},
     "output_type": "execute_result"
    }
   ],
   "source": [
    "df_main.head()"
   ]
  },
  {
   "cell_type": "code",
   "execution_count": 79,
   "metadata": {},
   "outputs": [
    {
     "data": {
      "text/plain": [
       "(3480, 30)"
      ]
     },
     "execution_count": 79,
     "metadata": {},
     "output_type": "execute_result"
    }
   ],
   "source": [
    "df_main.shape"
   ]
  },
  {
   "cell_type": "code",
   "execution_count": 80,
   "metadata": {},
   "outputs": [
    {
     "data": {
      "text/html": [
       "<div>\n",
       "<style>\n",
       "    .dataframe thead tr:only-child th {\n",
       "        text-align: right;\n",
       "    }\n",
       "\n",
       "    .dataframe thead th {\n",
       "        text-align: left;\n",
       "    }\n",
       "\n",
       "    .dataframe tbody tr th {\n",
       "        vertical-align: top;\n",
       "    }\n",
       "</style>\n",
       "<table border=\"1\" class=\"dataframe\">\n",
       "  <thead>\n",
       "    <tr style=\"text-align: right;\">\n",
       "      <th></th>\n",
       "      <th>dx</th>\n",
       "      <th>dy</th>\n",
       "      <th>dz</th>\n",
       "      <th>fft_ax</th>\n",
       "      <th>fft_ay</th>\n",
       "      <th>fft_az</th>\n",
       "      <th>max_ax</th>\n",
       "      <th>max_ay</th>\n",
       "      <th>max_az</th>\n",
       "      <th>mean_ax</th>\n",
       "      <th>...</th>\n",
       "      <th>sd_az</th>\n",
       "      <th>sp_ax</th>\n",
       "      <th>sp_ay</th>\n",
       "      <th>sp_az</th>\n",
       "      <th>var_ax</th>\n",
       "      <th>var_ay</th>\n",
       "      <th>var_az</th>\n",
       "      <th>ts_start</th>\n",
       "      <th>ts_end</th>\n",
       "      <th>label</th>\n",
       "    </tr>\n",
       "  </thead>\n",
       "  <tbody>\n",
       "    <tr>\n",
       "      <th>0</th>\n",
       "      <td>0.009452</td>\n",
       "      <td>0.010545</td>\n",
       "      <td>0.018279</td>\n",
       "      <td>0.0</td>\n",
       "      <td>0.0</td>\n",
       "      <td>0.0</td>\n",
       "      <td>0.152901</td>\n",
       "      <td>-0.226779</td>\n",
       "      <td>10.250119</td>\n",
       "      <td>-0.333256</td>\n",
       "      <td>...</td>\n",
       "      <td>0.286165</td>\n",
       "      <td>2.315844e+22</td>\n",
       "      <td>2.315844e+22</td>\n",
       "      <td>2.315844e+22</td>\n",
       "      <td>0.058883</td>\n",
       "      <td>0.026466</td>\n",
       "      <td>0.081890</td>\n",
       "      <td>152178985702</td>\n",
       "      <td>152178985912</td>\n",
       "      <td>0</td>\n",
       "    </tr>\n",
       "    <tr>\n",
       "      <th>0</th>\n",
       "      <td>0.023832</td>\n",
       "      <td>0.009768</td>\n",
       "      <td>0.016422</td>\n",
       "      <td>0.0</td>\n",
       "      <td>0.0</td>\n",
       "      <td>0.0</td>\n",
       "      <td>-0.041873</td>\n",
       "      <td>-0.205003</td>\n",
       "      <td>10.182401</td>\n",
       "      <td>-0.422345</td>\n",
       "      <td>...</td>\n",
       "      <td>0.201366</td>\n",
       "      <td>2.315844e+22</td>\n",
       "      <td>2.315844e+22</td>\n",
       "      <td>2.315844e+22</td>\n",
       "      <td>0.064644</td>\n",
       "      <td>0.025264</td>\n",
       "      <td>0.040548</td>\n",
       "      <td>152178985912</td>\n",
       "      <td>152178986124</td>\n",
       "      <td>0</td>\n",
       "    </tr>\n",
       "    <tr>\n",
       "      <th>0</th>\n",
       "      <td>0.012127</td>\n",
       "      <td>0.025754</td>\n",
       "      <td>0.014844</td>\n",
       "      <td>0.0</td>\n",
       "      <td>0.0</td>\n",
       "      <td>0.0</td>\n",
       "      <td>0.383211</td>\n",
       "      <td>0.875952</td>\n",
       "      <td>10.347148</td>\n",
       "      <td>-0.312917</td>\n",
       "      <td>...</td>\n",
       "      <td>0.223400</td>\n",
       "      <td>2.315844e+22</td>\n",
       "      <td>2.315844e+22</td>\n",
       "      <td>2.315844e+22</td>\n",
       "      <td>0.077985</td>\n",
       "      <td>0.264340</td>\n",
       "      <td>0.049907</td>\n",
       "      <td>152178986124</td>\n",
       "      <td>152178986337</td>\n",
       "      <td>0</td>\n",
       "    </tr>\n",
       "    <tr>\n",
       "      <th>0</th>\n",
       "      <td>0.015739</td>\n",
       "      <td>0.013850</td>\n",
       "      <td>0.008753</td>\n",
       "      <td>0.0</td>\n",
       "      <td>0.0</td>\n",
       "      <td>0.0</td>\n",
       "      <td>0.085185</td>\n",
       "      <td>1.039981</td>\n",
       "      <td>10.145551</td>\n",
       "      <td>-0.374978</td>\n",
       "      <td>...</td>\n",
       "      <td>0.271166</td>\n",
       "      <td>2.315844e+22</td>\n",
       "      <td>2.315844e+22</td>\n",
       "      <td>2.315844e+22</td>\n",
       "      <td>0.055386</td>\n",
       "      <td>0.045561</td>\n",
       "      <td>0.073531</td>\n",
       "      <td>152178986337</td>\n",
       "      <td>152178986549</td>\n",
       "      <td>0</td>\n",
       "    </tr>\n",
       "    <tr>\n",
       "      <th>0</th>\n",
       "      <td>0.003754</td>\n",
       "      <td>0.013616</td>\n",
       "      <td>0.036462</td>\n",
       "      <td>0.0</td>\n",
       "      <td>0.0</td>\n",
       "      <td>0.0</td>\n",
       "      <td>-0.108875</td>\n",
       "      <td>0.941278</td>\n",
       "      <td>10.244975</td>\n",
       "      <td>-0.313581</td>\n",
       "      <td>...</td>\n",
       "      <td>0.344815</td>\n",
       "      <td>2.315844e+22</td>\n",
       "      <td>2.315844e+22</td>\n",
       "      <td>2.315844e+22</td>\n",
       "      <td>0.023541</td>\n",
       "      <td>0.074459</td>\n",
       "      <td>0.118898</td>\n",
       "      <td>152178986549</td>\n",
       "      <td>152178986762</td>\n",
       "      <td>0</td>\n",
       "    </tr>\n",
       "  </tbody>\n",
       "</table>\n",
       "<p>5 rows × 30 columns</p>\n",
       "</div>"
      ],
      "text/plain": [
       "         dx        dy        dz  fft_ax  fft_ay  fft_az    max_ax    max_ay  \\\n",
       "0  0.009452  0.010545  0.018279     0.0     0.0     0.0  0.152901 -0.226779   \n",
       "0  0.023832  0.009768  0.016422     0.0     0.0     0.0 -0.041873 -0.205003   \n",
       "0  0.012127  0.025754  0.014844     0.0     0.0     0.0  0.383211  0.875952   \n",
       "0  0.015739  0.013850  0.008753     0.0     0.0     0.0  0.085185  1.039981   \n",
       "0  0.003754  0.013616  0.036462     0.0     0.0     0.0 -0.108875  0.941278   \n",
       "\n",
       "      max_az   mean_ax  ...       sd_az         sp_ax         sp_ay  \\\n",
       "0  10.250119 -0.333256  ...    0.286165  2.315844e+22  2.315844e+22   \n",
       "0  10.182401 -0.422345  ...    0.201366  2.315844e+22  2.315844e+22   \n",
       "0  10.347148 -0.312917  ...    0.223400  2.315844e+22  2.315844e+22   \n",
       "0  10.145551 -0.374978  ...    0.271166  2.315844e+22  2.315844e+22   \n",
       "0  10.244975 -0.313581  ...    0.344815  2.315844e+22  2.315844e+22   \n",
       "\n",
       "          sp_az    var_ax    var_ay    var_az      ts_start        ts_end  \\\n",
       "0  2.315844e+22  0.058883  0.026466  0.081890  152178985702  152178985912   \n",
       "0  2.315844e+22  0.064644  0.025264  0.040548  152178985912  152178986124   \n",
       "0  2.315844e+22  0.077985  0.264340  0.049907  152178986124  152178986337   \n",
       "0  2.315844e+22  0.055386  0.045561  0.073531  152178986337  152178986549   \n",
       "0  2.315844e+22  0.023541  0.074459  0.118898  152178986549  152178986762   \n",
       "\n",
       "   label  \n",
       "0      0  \n",
       "0      0  \n",
       "0      0  \n",
       "0      0  \n",
       "0      0  \n",
       "\n",
       "[5 rows x 30 columns]"
      ]
     },
     "execution_count": 80,
     "metadata": {},
     "output_type": "execute_result"
    }
   ],
   "source": [
    "# putting time stamps at the end\n",
    "cols = list(df_main.columns.values) #Make a list of all of the columns in the df\n",
    "cols.pop(cols.index('ts_start')) #Remove b from list\n",
    "cols.pop(cols.index('ts_end')) #Remove x from list\n",
    "cols.pop(cols.index('label')) # remove label\n",
    "df_main = df_main[cols+['ts_start','ts_end', 'label']]\n",
    "df_main.head()"
   ]
  },
  {
   "cell_type": "code",
   "execution_count": 81,
   "metadata": {},
   "outputs": [
    {
     "name": "stderr",
     "output_type": "stream",
     "text": [
      "C:\\ProgramData\\Anaconda3\\lib\\site-packages\\sklearn\\preprocessing\\data.py:164: UserWarning: Numerical issues were encountered when centering the data and might not be solved. Dataset may contain too large values. You may need to prescale your features.\n",
      "  warnings.warn(\"Numerical issues were encountered \"\n"
     ]
    }
   ],
   "source": [
    "df_main['fft_ax'] = preprocessing.scale(df_main['fft_ax'])\n",
    "df_main['fft_ay'] = preprocessing.scale(df_main['fft_ay'])\n",
    "df_main['fft_az'] = preprocessing.scale(df_main['fft_az'])\n",
    "\n",
    "df_main['sp_ax'] = preprocessing.scale(df_main['sp_ax'])\n",
    "df_main['sp_ay'] = preprocessing.scale(df_main['sp_ay'])\n",
    "df_main['sp_az'] = preprocessing.scale(df_main['sp_az'])"
   ]
  },
  {
   "cell_type": "code",
   "execution_count": 82,
   "metadata": {},
   "outputs": [
    {
     "data": {
      "text/plain": [
       "0    3155\n",
       "1     325\n",
       "Name: label, dtype: int64"
      ]
     },
     "execution_count": 82,
     "metadata": {},
     "output_type": "execute_result"
    }
   ],
   "source": [
    "df_main['label'].value_counts()"
   ]
  },
  {
   "cell_type": "code",
   "execution_count": 83,
   "metadata": {},
   "outputs": [],
   "source": [
    "#df_main.isnull().any()"
   ]
  },
  {
   "cell_type": "code",
   "execution_count": null,
   "metadata": {
    "collapsed": true
   },
   "outputs": [],
   "source": []
  },
  {
   "cell_type": "code",
   "execution_count": 84,
   "metadata": {
    "collapsed": true
   },
   "outputs": [],
   "source": [
    "data = np.array(df_main)\n",
    "\n",
    "x = data[:,0:-3]\n",
    "y = data[:,-1:]\n",
    "y = y.astype(int)"
   ]
  },
  {
   "cell_type": "code",
   "execution_count": 85,
   "metadata": {},
   "outputs": [
    {
     "data": {
      "text/plain": [
       "(3480, 27)"
      ]
     },
     "execution_count": 85,
     "metadata": {},
     "output_type": "execute_result"
    }
   ],
   "source": [
    "#y_train\n",
    "x.shape"
   ]
  },
  {
   "cell_type": "code",
   "execution_count": 100,
   "metadata": {},
   "outputs": [
    {
     "name": "stdout",
     "output_type": "stream",
     "text": [
      "92.81609195402298\n",
      "(2784, 27)   (696, 27)\n"
     ]
    },
    {
     "name": "stderr",
     "output_type": "stream",
     "text": [
      "C:\\ProgramData\\Anaconda3\\lib\\site-packages\\sklearn\\utils\\validation.py:578: DataConversionWarning: A column-vector y was passed when a 1d array was expected. Please change the shape of y to (n_samples, ), for example using ravel().\n",
      "  y = column_or_1d(y, warn=True)\n"
     ]
    }
   ],
   "source": [
    "#acc_sum = 0\n",
    "#for i in range(100):\n",
    "x_train,x_test,y_train,y_test = train_test_split(x,y,test_size = 0.2)\n",
    "\n",
    "model = LogisticRegression()\n",
    "model.fit(x_train,y_train)\n",
    "y_pred = model.predict(x_test)\n",
    "\n",
    "accuracy = accuracy_score(y_pred,y_test) * 100\n",
    "#acc_sum = acc_sum + accuracy\n",
    "print(accuracy)\n",
    "#acc_sum/100\n",
    "print(x_train.shape, \" \", x_test.shape)"
   ]
  },
  {
   "cell_type": "code",
   "execution_count": 102,
   "metadata": {},
   "outputs": [
    {
     "data": {
      "text/plain": [
       "array([[622,  10],\n",
       "       [ 40,  24]], dtype=int64)"
      ]
     },
     "execution_count": 102,
     "metadata": {},
     "output_type": "execute_result"
    }
   ],
   "source": [
    "confusion_matrix(y_test, y_pred)"
   ]
  },
  {
   "cell_type": "code",
   "execution_count": null,
   "metadata": {
    "collapsed": true
   },
   "outputs": [],
   "source": []
  },
  {
   "cell_type": "code",
   "execution_count": 103,
   "metadata": {},
   "outputs": [
    {
     "name": "stderr",
     "output_type": "stream",
     "text": [
      "C:\\ProgramData\\Anaconda3\\lib\\site-packages\\sklearn\\utils\\validation.py:578: DataConversionWarning: A column-vector y was passed when a 1d array was expected. Please change the shape of y to (n_samples, ), for example using ravel().\n",
      "  y = column_or_1d(y, warn=True)\n"
     ]
    },
    {
     "data": {
      "text/plain": [
       "0.9238505747126436"
      ]
     },
     "execution_count": 103,
     "metadata": {},
     "output_type": "execute_result"
    }
   ],
   "source": [
    "model = SVC(kernel='rbf', C = 10)\n",
    "model.fit(x_train,y_train)\n",
    "y_pred = model.predict(x_test)\n",
    "\n",
    "accuracy_score(y_pred,y_test)"
   ]
  },
  {
   "cell_type": "code",
   "execution_count": 105,
   "metadata": {},
   "outputs": [
    {
     "data": {
      "text/plain": [
       "array([[622,  10],\n",
       "       [ 43,  21]], dtype=int64)"
      ]
     },
     "execution_count": 105,
     "metadata": {},
     "output_type": "execute_result"
    }
   ],
   "source": [
    "confusion_matrix(y_test, y_pred)"
   ]
  },
  {
   "cell_type": "code",
   "execution_count": null,
   "metadata": {
    "collapsed": true
   },
   "outputs": [],
   "source": []
  },
  {
   "cell_type": "code",
   "execution_count": 106,
   "metadata": {
    "collapsed": true
   },
   "outputs": [],
   "source": [
    "pca = PCA(0.99)"
   ]
  },
  {
   "cell_type": "code",
   "execution_count": 107,
   "metadata": {},
   "outputs": [
    {
     "data": {
      "text/plain": [
       "PCA(copy=True, iterated_power='auto', n_components=0.99, random_state=None,\n",
       "  svd_solver='auto', tol=0.0, whiten=False)"
      ]
     },
     "execution_count": 107,
     "metadata": {},
     "output_type": "execute_result"
    }
   ],
   "source": [
    "pca.fit(x_train)"
   ]
  },
  {
   "cell_type": "code",
   "execution_count": 108,
   "metadata": {
    "collapsed": true
   },
   "outputs": [],
   "source": [
    "x_trans_train = pca.transform(x_train)\n",
    "x_trans_test = pca.transform(x_test)"
   ]
  },
  {
   "cell_type": "code",
   "execution_count": 109,
   "metadata": {},
   "outputs": [
    {
     "data": {
      "text/plain": [
       "(2784, 8)"
      ]
     },
     "execution_count": 109,
     "metadata": {},
     "output_type": "execute_result"
    }
   ],
   "source": [
    "x_trans_train.shape"
   ]
  },
  {
   "cell_type": "code",
   "execution_count": 112,
   "metadata": {},
   "outputs": [
    {
     "name": "stderr",
     "output_type": "stream",
     "text": [
      "C:\\ProgramData\\Anaconda3\\lib\\site-packages\\sklearn\\utils\\validation.py:578: DataConversionWarning: A column-vector y was passed when a 1d array was expected. Please change the shape of y to (n_samples, ), for example using ravel().\n",
      "  y = column_or_1d(y, warn=True)\n"
     ]
    },
    {
     "data": {
      "text/plain": [
       "0.9267241379310345"
      ]
     },
     "execution_count": 112,
     "metadata": {},
     "output_type": "execute_result"
    }
   ],
   "source": [
    "model = SVC()\n",
    "model.fit(x_trans_train,y_train)\n",
    "y_pred = model.predict(x_trans_test)\n",
    "\n",
    "accuracy_score(y_pred,y_test)"
   ]
  },
  {
   "cell_type": "code",
   "execution_count": 113,
   "metadata": {},
   "outputs": [
    {
     "data": {
      "text/plain": [
       "array([[620,  12],\n",
       "       [ 39,  25]], dtype=int64)"
      ]
     },
     "execution_count": 113,
     "metadata": {},
     "output_type": "execute_result"
    }
   ],
   "source": [
    "confusion_matrix(y_test, y_pred)"
   ]
  },
  {
   "cell_type": "code",
   "execution_count": 129,
   "metadata": {
    "scrolled": true
   },
   "outputs": [
    {
     "name": "stdout",
     "output_type": "stream",
     "text": [
      "Train on 2331 samples, validate on 1149 samples\n",
      "Epoch 1/100\n",
      "2331/2331 [==============================] - 1s 531us/step - loss: 0.4543 - acc: 0.8224 - val_loss: 0.2236 - val_acc: 0.9104\n",
      "Epoch 2/100\n",
      "2331/2331 [==============================] - 0s 121us/step - loss: 0.2863 - acc: 0.8996 - val_loss: 0.1961 - val_acc: 0.9260\n",
      "Epoch 3/100\n",
      "2331/2331 [==============================] - 0s 119us/step - loss: 0.2472 - acc: 0.9112 - val_loss: 0.1874 - val_acc: 0.9295\n",
      "Epoch 4/100\n",
      "2331/2331 [==============================] - 0s 116us/step - loss: 0.2378 - acc: 0.9138 - val_loss: 0.2005 - val_acc: 0.9304\n",
      "Epoch 5/100\n",
      "2331/2331 [==============================] - 0s 118us/step - loss: 0.2301 - acc: 0.9159 - val_loss: 0.1934 - val_acc: 0.9269\n",
      "Epoch 6/100\n",
      "2331/2331 [==============================] - 0s 125us/step - loss: 0.2302 - acc: 0.9151 - val_loss: 0.1841 - val_acc: 0.9304\n",
      "Epoch 7/100\n",
      "2331/2331 [==============================] - 0s 123us/step - loss: 0.2372 - acc: 0.9159 - val_loss: 0.1857 - val_acc: 0.9286\n",
      "Epoch 8/100\n",
      "2331/2331 [==============================] - 0s 119us/step - loss: 0.2188 - acc: 0.9121 - val_loss: 0.1861 - val_acc: 0.9252\n",
      "Epoch 9/100\n",
      "2331/2331 [==============================] - 0s 118us/step - loss: 0.2188 - acc: 0.9202 - val_loss: 0.1842 - val_acc: 0.9321\n",
      "Epoch 10/100\n",
      "2331/2331 [==============================] - 0s 122us/step - loss: 0.2090 - acc: 0.9198 - val_loss: 0.1804 - val_acc: 0.9295\n",
      "Epoch 11/100\n",
      "2331/2331 [==============================] - 0s 125us/step - loss: 0.2180 - acc: 0.9198 - val_loss: 0.1843 - val_acc: 0.9304\n",
      "Epoch 12/100\n",
      "2331/2331 [==============================] - 0s 119us/step - loss: 0.2089 - acc: 0.9198 - val_loss: 0.1838 - val_acc: 0.9330\n",
      "Epoch 13/100\n",
      "2331/2331 [==============================] - 0s 120us/step - loss: 0.2100 - acc: 0.9249 - val_loss: 0.1843 - val_acc: 0.9304\n",
      "Epoch 14/100\n",
      "2331/2331 [==============================] - 0s 126us/step - loss: 0.2093 - acc: 0.9185 - val_loss: 0.1844 - val_acc: 0.9304\n",
      "Epoch 15/100\n",
      "2331/2331 [==============================] - 0s 119us/step - loss: 0.2108 - acc: 0.9232 - val_loss: 0.1822 - val_acc: 0.9286\n",
      "Epoch 16/100\n",
      "2331/2331 [==============================] - 0s 124us/step - loss: 0.2086 - acc: 0.9155 - val_loss: 0.1831 - val_acc: 0.9321\n",
      "Epoch 17/100\n",
      "2331/2331 [==============================] - 0s 119us/step - loss: 0.2062 - acc: 0.9202 - val_loss: 0.1833 - val_acc: 0.9312\n",
      "Epoch 18/100\n",
      "2331/2331 [==============================] - 0s 125us/step - loss: 0.2049 - acc: 0.9245 - val_loss: 0.1834 - val_acc: 0.9339\n",
      "Epoch 19/100\n",
      "2331/2331 [==============================] - 0s 125us/step - loss: 0.2007 - acc: 0.9198 - val_loss: 0.1882 - val_acc: 0.9278\n",
      "Epoch 20/100\n",
      "2331/2331 [==============================] - 0s 119us/step - loss: 0.2107 - acc: 0.9206 - val_loss: 0.1838 - val_acc: 0.9304\n",
      "Epoch 21/100\n",
      "2331/2331 [==============================] - 0s 121us/step - loss: 0.2070 - acc: 0.9241 - val_loss: 0.1827 - val_acc: 0.9321\n",
      "Epoch 22/100\n",
      "2331/2331 [==============================] - 0s 123us/step - loss: 0.2069 - acc: 0.9224 - val_loss: 0.1816 - val_acc: 0.9321\n",
      "Epoch 23/100\n",
      "2331/2331 [==============================] - 0s 123us/step - loss: 0.2039 - acc: 0.9236 - val_loss: 0.1810 - val_acc: 0.9347\n",
      "Epoch 24/100\n",
      "2331/2331 [==============================] - 0s 118us/step - loss: 0.2021 - acc: 0.9254 - val_loss: 0.1816 - val_acc: 0.9321\n",
      "Epoch 25/100\n",
      "2331/2331 [==============================] - 0s 125us/step - loss: 0.1992 - acc: 0.9236 - val_loss: 0.1797 - val_acc: 0.9295\n",
      "Epoch 26/100\n",
      "2331/2331 [==============================] - 0s 120us/step - loss: 0.2109 - acc: 0.9219 - val_loss: 0.1862 - val_acc: 0.9347\n",
      "Epoch 27/100\n",
      "2331/2331 [==============================] - 0s 121us/step - loss: 0.2038 - acc: 0.9271 - val_loss: 0.1811 - val_acc: 0.9330\n",
      "Epoch 28/100\n",
      "2331/2331 [==============================] - 0s 122us/step - loss: 0.2074 - acc: 0.9228 - val_loss: 0.1790 - val_acc: 0.9295\n",
      "Epoch 29/100\n",
      "2331/2331 [==============================] - 0s 122us/step - loss: 0.1975 - acc: 0.9228 - val_loss: 0.1782 - val_acc: 0.9312\n",
      "Epoch 30/100\n",
      "2331/2331 [==============================] - 0s 123us/step - loss: 0.2050 - acc: 0.9254 - val_loss: 0.1836 - val_acc: 0.9286\n",
      "Epoch 31/100\n",
      "2331/2331 [==============================] - 0s 118us/step - loss: 0.2076 - acc: 0.9219 - val_loss: 0.1823 - val_acc: 0.9312\n",
      "Epoch 32/100\n",
      "2331/2331 [==============================] - 0s 121us/step - loss: 0.2052 - acc: 0.9236 - val_loss: 0.1806 - val_acc: 0.9312\n",
      "Epoch 33/100\n",
      "2331/2331 [==============================] - 0s 119us/step - loss: 0.2038 - acc: 0.9279 - val_loss: 0.1799 - val_acc: 0.9356\n",
      "Epoch 34/100\n",
      "2331/2331 [==============================] - 0s 122us/step - loss: 0.2050 - acc: 0.9249 - val_loss: 0.1786 - val_acc: 0.9330\n",
      "Epoch 35/100\n",
      "2331/2331 [==============================] - 0s 120us/step - loss: 0.2092 - acc: 0.9189 - val_loss: 0.1808 - val_acc: 0.9339\n",
      "Epoch 36/100\n",
      "2331/2331 [==============================] - 0s 123us/step - loss: 0.2032 - acc: 0.9249 - val_loss: 0.1788 - val_acc: 0.9347\n",
      "Epoch 37/100\n",
      "2331/2331 [==============================] - 0s 123us/step - loss: 0.2060 - acc: 0.9249 - val_loss: 0.1799 - val_acc: 0.9347\n",
      "Epoch 38/100\n",
      "2331/2331 [==============================] - 0s 126us/step - loss: 0.1977 - acc: 0.9296 - val_loss: 0.1783 - val_acc: 0.9339\n",
      "Epoch 39/100\n",
      "2331/2331 [==============================] - 0s 123us/step - loss: 0.2034 - acc: 0.9219 - val_loss: 0.1812 - val_acc: 0.9286\n",
      "Epoch 40/100\n",
      "2331/2331 [==============================] - 0s 124us/step - loss: 0.1965 - acc: 0.9241 - val_loss: 0.1776 - val_acc: 0.9312\n",
      "Epoch 41/100\n",
      "2331/2331 [==============================] - 0s 121us/step - loss: 0.2020 - acc: 0.9266 - val_loss: 0.1765 - val_acc: 0.9286\n",
      "Epoch 42/100\n",
      "2331/2331 [==============================] - 0s 122us/step - loss: 0.2037 - acc: 0.9314 - val_loss: 0.1780 - val_acc: 0.9295\n",
      "Epoch 43/100\n",
      "2331/2331 [==============================] - 0s 127us/step - loss: 0.2019 - acc: 0.9245 - val_loss: 0.1765 - val_acc: 0.9321\n",
      "Epoch 44/100\n",
      "2331/2331 [==============================] - 0s 124us/step - loss: 0.1948 - acc: 0.9288 - val_loss: 0.1776 - val_acc: 0.9312\n",
      "Epoch 45/100\n",
      "2331/2331 [==============================] - 0s 116us/step - loss: 0.1978 - acc: 0.9228 - val_loss: 0.1768 - val_acc: 0.9295\n",
      "Epoch 46/100\n",
      "2331/2331 [==============================] - 0s 121us/step - loss: 0.1971 - acc: 0.9271 - val_loss: 0.1771 - val_acc: 0.9312\n",
      "Epoch 47/100\n",
      "2331/2331 [==============================] - 0s 119us/step - loss: 0.2016 - acc: 0.9258 - val_loss: 0.1825 - val_acc: 0.9304\n",
      "Epoch 48/100\n",
      "2331/2331 [==============================] - 0s 119us/step - loss: 0.1908 - acc: 0.9301 - val_loss: 0.1764 - val_acc: 0.9382\n",
      "Epoch 49/100\n",
      "2331/2331 [==============================] - 0s 124us/step - loss: 0.2000 - acc: 0.9262 - val_loss: 0.1745 - val_acc: 0.9347\n",
      "Epoch 50/100\n",
      "2331/2331 [==============================] - 0s 118us/step - loss: 0.2038 - acc: 0.9241 - val_loss: 0.1797 - val_acc: 0.9295\n",
      "Epoch 51/100\n",
      "2331/2331 [==============================] - 0s 124us/step - loss: 0.2005 - acc: 0.9241 - val_loss: 0.1782 - val_acc: 0.9312\n",
      "Epoch 52/100\n",
      "2331/2331 [==============================] - 0s 122us/step - loss: 0.2017 - acc: 0.9275 - val_loss: 0.1796 - val_acc: 0.9321\n",
      "Epoch 53/100\n",
      "2331/2331 [==============================] - 0s 119us/step - loss: 0.2019 - acc: 0.9232 - val_loss: 0.1806 - val_acc: 0.9312\n",
      "Epoch 54/100\n",
      "2331/2331 [==============================] - 0s 118us/step - loss: 0.1907 - acc: 0.9266 - val_loss: 0.1770 - val_acc: 0.9312\n",
      "Epoch 55/100\n",
      "2331/2331 [==============================] - 0s 121us/step - loss: 0.1961 - acc: 0.9292 - val_loss: 0.1769 - val_acc: 0.9312\n",
      "Epoch 56/100\n",
      "2331/2331 [==============================] - 0s 123us/step - loss: 0.1990 - acc: 0.9271 - val_loss: 0.1784 - val_acc: 0.9312\n",
      "Epoch 57/100\n",
      "2331/2331 [==============================] - 0s 126us/step - loss: 0.1997 - acc: 0.9284 - val_loss: 0.1777 - val_acc: 0.9312\n",
      "Epoch 58/100\n",
      "2331/2331 [==============================] - 0s 128us/step - loss: 0.1929 - acc: 0.9305 - val_loss: 0.1751 - val_acc: 0.9356\n",
      "Epoch 59/100\n",
      "2331/2331 [==============================] - 0s 122us/step - loss: 0.1973 - acc: 0.9292 - val_loss: 0.1765 - val_acc: 0.9312\n",
      "Epoch 60/100\n"
     ]
    },
    {
     "name": "stdout",
     "output_type": "stream",
     "text": [
      "2331/2331 [==============================] - 0s 121us/step - loss: 0.2019 - acc: 0.9254 - val_loss: 0.1781 - val_acc: 0.9312\n",
      "Epoch 61/100\n",
      "2331/2331 [==============================] - 0s 138us/step - loss: 0.1933 - acc: 0.9322 - val_loss: 0.1777 - val_acc: 0.9312\n",
      "Epoch 62/100\n",
      "2331/2331 [==============================] - 0s 121us/step - loss: 0.2011 - acc: 0.9301 - val_loss: 0.1748 - val_acc: 0.9330\n",
      "Epoch 63/100\n",
      "2331/2331 [==============================] - 0s 118us/step - loss: 0.1962 - acc: 0.9266 - val_loss: 0.1799 - val_acc: 0.9312\n",
      "Epoch 64/100\n",
      "2331/2331 [==============================] - 0s 119us/step - loss: 0.1957 - acc: 0.9288 - val_loss: 0.1749 - val_acc: 0.9304\n",
      "Epoch 65/100\n",
      "2331/2331 [==============================] - 0s 127us/step - loss: 0.1928 - acc: 0.9266 - val_loss: 0.1724 - val_acc: 0.9321\n",
      "Epoch 66/100\n",
      "2331/2331 [==============================] - 0s 119us/step - loss: 0.1927 - acc: 0.9296 - val_loss: 0.1785 - val_acc: 0.9312\n",
      "Epoch 67/100\n",
      "2331/2331 [==============================] - 0s 159us/step - loss: 0.1959 - acc: 0.9318 - val_loss: 0.1800 - val_acc: 0.9295\n",
      "Epoch 68/100\n",
      "2331/2331 [==============================] - 0s 181us/step - loss: 0.1912 - acc: 0.9288 - val_loss: 0.1744 - val_acc: 0.9330\n",
      "Epoch 69/100\n",
      "2331/2331 [==============================] - 0s 152us/step - loss: 0.1913 - acc: 0.9279 - val_loss: 0.1759 - val_acc: 0.9312\n",
      "Epoch 70/100\n",
      "2331/2331 [==============================] - 0s 115us/step - loss: 0.1952 - acc: 0.9288 - val_loss: 0.1803 - val_acc: 0.9304\n",
      "Epoch 71/100\n",
      "2331/2331 [==============================] - 0s 151us/step - loss: 0.1908 - acc: 0.9279 - val_loss: 0.1757 - val_acc: 0.9286\n",
      "Epoch 72/100\n",
      "2331/2331 [==============================] - 0s 153us/step - loss: 0.1921 - acc: 0.9279 - val_loss: 0.1763 - val_acc: 0.9304\n",
      "Epoch 73/100\n",
      "2331/2331 [==============================] - 0s 126us/step - loss: 0.1884 - acc: 0.9288 - val_loss: 0.1779 - val_acc: 0.9330\n",
      "Epoch 74/100\n",
      "2331/2331 [==============================] - 0s 146us/step - loss: 0.1979 - acc: 0.9275 - val_loss: 0.1798 - val_acc: 0.9295\n",
      "Epoch 75/100\n",
      "2331/2331 [==============================] - 0s 145us/step - loss: 0.1865 - acc: 0.9279 - val_loss: 0.1775 - val_acc: 0.9312\n",
      "Epoch 76/100\n",
      "2331/2331 [==============================] - 0s 135us/step - loss: 0.1933 - acc: 0.9236 - val_loss: 0.1753 - val_acc: 0.9330\n",
      "Epoch 77/100\n",
      "2331/2331 [==============================] - 0s 160us/step - loss: 0.1962 - acc: 0.9262 - val_loss: 0.1790 - val_acc: 0.9312\n",
      "Epoch 78/100\n",
      "2331/2331 [==============================] - 0s 158us/step - loss: 0.1963 - acc: 0.9288 - val_loss: 0.1763 - val_acc: 0.9330\n",
      "Epoch 79/100\n",
      "2331/2331 [==============================] - 0s 162us/step - loss: 0.1886 - acc: 0.9266 - val_loss: 0.1763 - val_acc: 0.9330\n",
      "Epoch 80/100\n",
      "2331/2331 [==============================] - 0s 155us/step - loss: 0.1913 - acc: 0.9258 - val_loss: 0.1785 - val_acc: 0.9356\n",
      "Epoch 81/100\n",
      "2331/2331 [==============================] - 0s 160us/step - loss: 0.1984 - acc: 0.9245 - val_loss: 0.1747 - val_acc: 0.9312\n",
      "Epoch 82/100\n",
      "2331/2331 [==============================] - 0s 162us/step - loss: 0.1923 - acc: 0.9309 - val_loss: 0.1740 - val_acc: 0.9339\n",
      "Epoch 83/100\n",
      "2331/2331 [==============================] - 0s 152us/step - loss: 0.1915 - acc: 0.9266 - val_loss: 0.1761 - val_acc: 0.9304\n",
      "Epoch 84/100\n",
      "2331/2331 [==============================] - 0s 159us/step - loss: 0.1921 - acc: 0.9271 - val_loss: 0.1742 - val_acc: 0.9330\n",
      "Epoch 85/100\n",
      "2331/2331 [==============================] - 0s 123us/step - loss: 0.1881 - acc: 0.9301 - val_loss: 0.1727 - val_acc: 0.9339\n",
      "Epoch 86/100\n",
      "2331/2331 [==============================] - 0s 131us/step - loss: 0.1941 - acc: 0.9241 - val_loss: 0.1757 - val_acc: 0.9295\n",
      "Epoch 87/100\n",
      "2331/2331 [==============================] - 0s 130us/step - loss: 0.1886 - acc: 0.9296 - val_loss: 0.1763 - val_acc: 0.9304\n",
      "Epoch 88/100\n",
      "2331/2331 [==============================] - 0s 125us/step - loss: 0.1855 - acc: 0.9309 - val_loss: 0.1743 - val_acc: 0.9339\n",
      "Epoch 89/100\n",
      "2331/2331 [==============================] - 0s 161us/step - loss: 0.1874 - acc: 0.9275 - val_loss: 0.1786 - val_acc: 0.9304\n",
      "Epoch 90/100\n",
      "2331/2331 [==============================] - 0s 156us/step - loss: 0.1946 - acc: 0.9249 - val_loss: 0.1765 - val_acc: 0.9356\n",
      "Epoch 91/100\n",
      "2331/2331 [==============================] - 0s 162us/step - loss: 0.1875 - acc: 0.9301 - val_loss: 0.1770 - val_acc: 0.9312\n",
      "Epoch 92/100\n",
      "2331/2331 [==============================] - 0s 120us/step - loss: 0.1880 - acc: 0.9314 - val_loss: 0.1742 - val_acc: 0.9365\n",
      "Epoch 93/100\n",
      "2331/2331 [==============================] - 0s 136us/step - loss: 0.1955 - acc: 0.9249 - val_loss: 0.1755 - val_acc: 0.9347\n",
      "Epoch 94/100\n",
      "2331/2331 [==============================] - 0s 162us/step - loss: 0.1909 - acc: 0.9275 - val_loss: 0.1718 - val_acc: 0.9347\n",
      "Epoch 95/100\n",
      "2331/2331 [==============================] - 0s 165us/step - loss: 0.1915 - acc: 0.9249 - val_loss: 0.1727 - val_acc: 0.9373\n",
      "Epoch 96/100\n",
      "2331/2331 [==============================] - 0s 147us/step - loss: 0.1898 - acc: 0.9309 - val_loss: 0.1729 - val_acc: 0.9356\n",
      "Epoch 97/100\n",
      "2331/2331 [==============================] - 0s 124us/step - loss: 0.1835 - acc: 0.9288 - val_loss: 0.1755 - val_acc: 0.9339\n",
      "Epoch 98/100\n",
      "2331/2331 [==============================] - 0s 121us/step - loss: 0.1928 - acc: 0.9296 - val_loss: 0.1736 - val_acc: 0.9373\n",
      "Epoch 99/100\n",
      "2331/2331 [==============================] - 0s 135us/step - loss: 0.1894 - acc: 0.9258 - val_loss: 0.1692 - val_acc: 0.9339\n",
      "Epoch 100/100\n",
      "2331/2331 [==============================] - 0s 158us/step - loss: 0.1907 - acc: 0.9284 - val_loss: 0.1713 - val_acc: 0.9330\n"
     ]
    },
    {
     "data": {
      "text/plain": [
       "0.9329852045256745"
      ]
     },
     "execution_count": 129,
     "metadata": {},
     "output_type": "execute_result"
    }
   ],
   "source": [
    "# uncomment following to run neural net\n",
    "\n",
    "#acc = []\n",
    "#for i in range(50):\n",
    "x_train,x_test,y_train,y_test = train_test_split(x,y,test_size = 0.33)\n",
    "# model\n",
    "model = Sequential()\n",
    "model.add(Dense(units=100,activation=\"relu\",input_dim =x_train.shape[1]))\n",
    "model.add(Dropout(0.3))\n",
    "model.add(Dense(units=50,activation=\"relu\"))\n",
    "model.add(Dropout(0.3))\n",
    "model.add(Dense(units=10,activation=\"relu\"))\n",
    "model.add(Dropout(0.3))\n",
    "model.add(Dense(units=1,activation=\"sigmoid\"))\n",
    "#model.add(Dense(units=10,activation=\"softmax\"))\n",
    "\n",
    "#compile\n",
    "model.compile(optimizer='adam',loss=\"binary_crossentropy\",metrics=[\"accuracy\"])\n",
    "\n",
    "#train\n",
    "model.fit(x_train,y_train, validation_data= (x_test, y_test), batch_size= 50, epochs= 100)\n",
    "\n",
    "y_pred = model.predict_classes(x_test)\n",
    "accuracy_score(y_test, y_pred)"
   ]
  },
  {
   "cell_type": "code",
   "execution_count": 130,
   "metadata": {},
   "outputs": [],
   "source": [
    "cnf_mat = confusion_matrix(y_test, y_pred)"
   ]
  },
  {
   "cell_type": "code",
   "execution_count": 131,
   "metadata": {},
   "outputs": [
    {
     "data": {
      "text/plain": [
       "0.924978975849082"
      ]
     },
     "execution_count": 131,
     "metadata": {},
     "output_type": "execute_result"
    }
   ],
   "source": [
    "f1_score(y_test, y_pred, average='weighted')"
   ]
  },
  {
   "cell_type": "code",
   "execution_count": null,
   "metadata": {
    "collapsed": true
   },
   "outputs": [],
   "source": []
  },
  {
   "cell_type": "code",
   "execution_count": 133,
   "metadata": {},
   "outputs": [
    {
     "data": {
      "image/png": "[encoded data removed]",
      "text/plain": [
       "<matplotlib.figure.Figure at 0x1c590c57208>"
      ]
     },
     "metadata": {},
     "output_type": "display_data"
    }
   ],
   "source": [
    "plot_confusion_matrix(cm           =cnf_mat, \n",
    "                      normalize    = True,\n",
    "                      target_names = ['non-potholes', 'potholes'],\n",
    "                      title        = \"Confusion Matrix\")"
   ]
  },
  {
   "cell_type": "code",
   "execution_count": 66,
   "metadata": {},
   "outputs": [],
   "source": [
    "elements, counts =  np.unique(y_test, return_counts = True)"
   ]
  },
  {
   "cell_type": "code",
   "execution_count": 67,
   "metadata": {},
   "outputs": [
    {
     "name": "stdout",
     "output_type": "stream",
     "text": [
      "[[   0    1]\n",
      " [1041  108]]\n"
     ]
    }
   ],
   "source": [
    "print(np.asarray((elements, counts)))"
   ]
  },
  {
   "cell_type": "code",
   "execution_count": null,
   "metadata": {
    "collapsed": true
   },
   "outputs": [],
   "source": []
  }
 ],
 "metadata": {
  "kernelspec": {
   "display_name": "Python 3",
   "language": "python",
   "name": "python3"
  },
  "language_info": {
   "codemirror_mode": {
    "name": "ipython",
    "version": 3
   },
   "file_extension": ".py",
   "mimetype": "text/x-python",
   "name": "python",
   "nbconvert_exporter": "python",
   "pygments_lexer": "ipython3",
   "version": "3.6.3"
  }
 },
 "nbformat": 4,
 "nbformat_minor": 2
}
